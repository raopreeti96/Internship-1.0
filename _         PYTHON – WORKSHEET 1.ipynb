{
 "cells": [
  {
   "cell_type": "markdown",
   "id": "ef70c3bf",
   "metadata": {},
   "source": [
    "# PYTHON – WORKSHEET 1"
   ]
  },
  {
   "cell_type": "markdown",
   "id": "13fbb1a7",
   "metadata": {},
   "source": [
    "# 11. Write a python program to find the factorial of a number."
   ]
  },
  {
   "cell_type": "markdown",
   "id": "a0773364",
   "metadata": {},
   "source": [
    "Ans - To solve this question  we have to know about factorial.\n",
    "\n",
    "- So, The factorial is nothing. but the multiplication of  all number which are comes below that number.\n",
    "\n",
    " - Like -  If i want to find the factorial of 5 . = 5 X 4 X 3 X 2 X 1 . Like this we have to do in the python code.\n",
    " \n",
    " \n",
    "  So lets do that.\n",
    "  "
   ]
  },
  {
   "cell_type": "code",
   "execution_count": 2,
   "id": "9e2a178c",
   "metadata": {},
   "outputs": [
    {
     "name": "stdout",
     "output_type": "stream",
     "text": [
      "Enter a Number To Factorial  4\n",
      "Factorial of your number is   24\n"
     ]
    }
   ],
   "source": [
    "num=int(input(\"Enter a Number To Factorial  \")) \n",
    "facto=1 #Creating for saving the resul in this variable\n",
    "\n",
    "for i in range(num,0,-1):#we are running a loop in reverse direction for multiplying all backwords number.\n",
    "    facto=facto * i #Here we multiplying all the number sequentially.\n",
    "    \n",
    "print(\"Factorial of your number is  \",facto)#Printing our result."
   ]
  },
  {
   "cell_type": "markdown",
   "id": "a5de0c8d",
   "metadata": {},
   "source": [
    "# 12. Write a python program to find whether a number is prime or composite."
   ]
  },
  {
   "cell_type": "markdown",
   "id": "14d0644a",
   "metadata": {},
   "source": [
    "Ans- To solve this question . We have to know about 2 things .\n",
    "\n",
    "1 - Prime Number \n",
    "\n",
    "2 - Composite Number\n",
    "\n",
    "\n",
    "1 - Prime Number -Prime number is nothing . But prime number is those number which are divided by own number and 1 ..\n",
    "\n",
    "Like 5 is prime number - Its only divided by 5 and 5 . So thats why we called 5 is a prime number.\n",
    "\n",
    "\n",
    "\n",
    "2 - Composite number - Composite number is nothing . But those number which are divied by more than 2 numbers .opposite of prime numbers. \n",
    "\n",
    "\n",
    "Like 6 is a Composite number - It can by divied by 1,2,3,4 and got remainder as 0 .So this is is known as composite number.\n",
    "\n",
    "\n",
    "\n",
    "- So , Now we have put this thoery to python code and find the that number is prime or composite.\n",
    "\n",
    "\n",
    "\n",
    "Lets go .."
   ]
  },
  {
   "cell_type": "code",
   "execution_count": 13,
   "id": "8f4a8b1f",
   "metadata": {},
   "outputs": [
    {
     "name": "stdout",
     "output_type": "stream",
     "text": [
      "Enter a Number to check Prime or Composite 11\n",
      "11 is a Prime number\n"
     ]
    }
   ],
   "source": [
    "num=int(input(\"Enter a Number to check Prime or Composite \"))#Entering a msh to show in display\n",
    "if num>1: #as we all know if number is < 1 so it is composite number\n",
    "    for i in range(2,num): #We are runng a forloop for num of times.\n",
    "        if num%i==0: #Here, we are using modulas dividing to check remainder if reamainder is zero so it is a composite number.\n",
    "            print(num,\"is a Composite number \")\n",
    "            break #Here. we are are break the loop for composite number.\n",
    "    else:\n",
    "        print(num,\"is a Prime number\")\n",
    "else:\n",
    "    print(num,\"is a Composite number \")"
   ]
  },
  {
   "cell_type": "markdown",
   "id": "fe52813a",
   "metadata": {},
   "source": [
    "# 13. Write a python program to check whether a given string is palindrome or not."
   ]
  },
  {
   "cell_type": "markdown",
   "id": "ea1a655a",
   "metadata": {},
   "source": [
    "Ans - To solve this question . We have to know about palindrome .\n",
    "\n",
    "Panlindrome  - Palindrome means - If we write any word and we spoke the word from left to right and right to left is spoke same. at both condition. is known as palindrome.\n",
    "\n",
    "Lets take and example for Understand : - \n",
    "\n",
    "1 - Mom  -> If we write mom .start read from left to right so we called as Mom . and we try to read from right to left side we called same mom . so this is the intution behind the palindrome.\n",
    "\n",
    "\n",
    "\n",
    "So, Lets do to check the string in palindrome or not in python code."
   ]
  },
  {
   "cell_type": "code",
   "execution_count": 22,
   "id": "68e84219",
   "metadata": {},
   "outputs": [
    {
     "name": "stdout",
     "output_type": "stream",
     "text": [
      "Enter a Word To Check Its Palindrome OR Not Saurav\n",
      "varuaS Reverse String\n",
      "Saurav  is not a Palindrome\n"
     ]
    }
   ],
   "source": [
    "string=input(\"Enter a Word To Check Its Palindrome OR Not \")#Here,We are Using code for display the message.\n",
    "\n",
    "rev_str=string[::-1] #Here, We using advance slicing method\n",
    "print(rev_str, \"Reverse String\") #Printing reversed of our entered string\n",
    "if string==rev_str:#Using if condintion for checking both are same or not using == Sign.\n",
    "    print(string,\" is a Palindrome \") #Printing Message\n",
    "else:\n",
    "    print(string,\" is not a Palindrome\") #Printing Message"
   ]
  },
  {
   "cell_type": "markdown",
   "id": "e87dc1ef",
   "metadata": {},
   "source": [
    "# 14. Write a Python program to get the third side of right-angled triangle from two given sides."
   ]
  },
  {
   "cell_type": "markdown",
   "id": "829ddc9c",
   "metadata": {},
   "source": [
    "Ans - So , Here we have to find the third side of right angled triangle .\n",
    "\n",
    "So, We all know . If we have 2 sides of right angled traiangle and we have to find the third side . So we have to use  hypotenuse formula.\n",
    "\n",
    "So, The question is. What is hypotenuse .?\n",
    "\n",
    "Hypotenuse = √ [Base2 + Perpendicular2].\n",
    "\n",
    "So . Use this formula and solve with using of python code."
   ]
  },
  {
   "cell_type": "code",
   "execution_count": 25,
   "id": "f3e101d4",
   "metadata": {},
   "outputs": [
    {
     "name": "stdout",
     "output_type": "stream",
     "text": [
      "Enter a Base and Perpendicular Sides of Your Triangle\n",
      "Enter Base of The right angled triangle 2\n",
      "Enter Perpendicular of The right angled triangle 4\n",
      "The Third Side of a traiangle is   4.47213595499958\n"
     ]
    }
   ],
   "source": [
    "from math import sqrt #Here , we import sqrt from math . to use the hypotenuse formula\n",
    "print(\"Enter a Base and Perpendicular Sides of Your Triangle\")\n",
    "\n",
    "a=float(input(\"Enter Base of The right angled triangle \"))#Here we have to enter the base of the traingle\n",
    "b=float(input(\"Enter Perpendicular of The right angled triangle \"))#Here we have to enter the base of the traingle\n",
    "c=sqrt(a**2+b**2) #Here we are using the Hypotenuse formula\n",
    "\n",
    "print(\"The Third Side of a traiangle is  \",c) #Here we print the third side of triangle."
   ]
  },
  {
   "cell_type": "markdown",
   "id": "7da1a836",
   "metadata": {},
   "source": [
    "# 15. Write a python program to print the frequency of each of the characters present in a given string"
   ]
  },
  {
   "cell_type": "markdown",
   "id": "006f82ab",
   "metadata": {},
   "source": [
    "Ans - In, This Question we have to How many times each character comes. . So when we have to do that. we have  to do first  convert a string into a list for counting the charaters. then we have to use count counter method to Count . \n",
    "\n",
    "\n",
    "\n",
    "\n",
    "So, lets do in python programming."
   ]
  },
  {
   "cell_type": "code",
   "execution_count": 33,
   "id": "52ddd09e",
   "metadata": {},
   "outputs": [
    {
     "name": "stdout",
     "output_type": "stream",
     "text": [
      "Enter a String  Shristi Gupta\n",
      "Counter({'i': 2, 't': 2, 'S': 1, 'h': 1, 'r': 1, 's': 1, ' ': 1, 'G': 1, 'u': 1, 'p': 1, 'a': 1})\n"
     ]
    }
   ],
   "source": [
    "from collections import Counter #Here we importing Counter from collections\n",
    "string=input(\"Enter a String  \") # Enter A strng which you want to check\n",
    "l=list(string) #Convert in list\n",
    "\n",
    "print(Counter(l)) #Lets print Counter and check result."
   ]
  },
  {
   "cell_type": "code",
   "execution_count": null,
   "id": "052d6e82",
   "metadata": {},
   "outputs": [],
   "source": [
    "#Student of Data Science \n",
    "#Student of Data Trained -Saurav\n",
    "#Date - 17-10-2022\n",
    "#Time - 15:54\n"
   ]
  }
 ],
 "metadata": {
  "kernelspec": {
   "display_name": "Python 3 (ipykernel)",
   "language": "python",
   "name": "python3"
  },
  "language_info": {
   "codemirror_mode": {
    "name": "ipython",
    "version": 3
   },
   "file_extension": ".py",
   "mimetype": "text/x-python",
   "name": "python",
   "nbconvert_exporter": "python",
   "pygments_lexer": "ipython3",
   "version": "3.9.12"
  }
 },
 "nbformat": 4,
 "nbformat_minor": 5
}
